{
 "cells": [
  {
   "cell_type": "markdown",
   "id": "50c5d3ba",
   "metadata": {},
   "source": [
    "# Machine Learning"
   ]
  },
  {
   "cell_type": "markdown",
   "id": "dc0889ac",
   "metadata": {},
   "source": [
    "## Topic: Sudan GDP - Historical Data Predictor (Linear Regerasstion)\n",
    "**<FONT COLOR=\"#FF0000\">NOTE</FONT>** : This notebook is where the data was analyzed and the predictive models were\n",
    "built for the app. For more information and this notebook, visit us at <a href='https://github.com/mdolib?tab=repositories'>Mohammed Dolib</a>\n",
    "\n",
    "### Econemy\n",
    "GDP at purchaser's prices is the sum of gross value added by all resident producers in the economy plus any product taxes and minus any subsidies not included in the value of the products. It is calculated without making deductions for depreciation of fabricated assets or for depletion and degradation of natural resources. Data are in current U.S. dollars. Dollar figures for GDP are converted from domestic currencies using single year official exchange rates. For a few countries where the official exchange rate does not reflect the rate effectively applied to actual foreign exchange transactions, an alternative conversion factor is used.\n",
    "- Sudan gdp for 2021 was $34.33B, a 26.97% increase from 2020.\n",
    "\n",
    "- Sudan gdp for 2020 was $27.03B, a 16.4% decline from 2019.\n",
    "\n",
    "- Sudan gdp for 2019 was $32.34B, a 0.01% increase from 2018.\n",
    "\n",
    "- Sudan gdp for 2018 was $32.33B, a 75.07% decline from 2017."
   ]
  },
  {
   "cell_type": "markdown",
   "id": "6439a94b",
   "metadata": {},
   "source": [
    "### Required Libraries"
   ]
  },
  {
   "cell_type": "code",
   "execution_count": 1,
   "id": "78f3b41e",
   "metadata": {},
   "outputs": [],
   "source": [
    "# import libraries\n",
    "import pandas as pd\n",
    "import numpy as np\n",
    "import matplotlib.pyplot as plt\n",
    "import seaborn as sns\n",
    "import warnings\n",
    "warnings.filterwarnings('ignore')"
   ]
  },
  {
   "cell_type": "code",
   "execution_count": 2,
   "id": "f2e73dfc",
   "metadata": {},
   "outputs": [],
   "source": [
    "# import Dataset\n",
    "tables = pd.read_html('https://www.macrotrends.net/countries/SDN/sudan/gdp-gross-domestic-product')"
   ]
  },
  {
   "cell_type": "code",
   "execution_count": 3,
   "id": "94ea8d38",
   "metadata": {},
   "outputs": [
    {
     "data": {
      "text/plain": [
       "4"
      ]
     },
     "execution_count": 3,
     "metadata": {},
     "output_type": "execute_result"
    }
   ],
   "source": [
    "len(tables)"
   ]
  },
  {
   "cell_type": "code",
   "execution_count": 4,
   "id": "9a86d264",
   "metadata": {},
   "outputs": [
    {
     "data": {
      "text/html": [
       "<div>\n",
       "<style scoped>\n",
       "    .dataframe tbody tr th:only-of-type {\n",
       "        vertical-align: middle;\n",
       "    }\n",
       "\n",
       "    .dataframe tbody tr th {\n",
       "        vertical-align: top;\n",
       "    }\n",
       "\n",
       "    .dataframe thead tr th {\n",
       "        text-align: left;\n",
       "    }\n",
       "</style>\n",
       "<table border=\"1\" class=\"dataframe\">\n",
       "  <thead>\n",
       "    <tr>\n",
       "      <th></th>\n",
       "      <th colspan=\"4\" halign=\"left\">Sudan GDP - Historical Data</th>\n",
       "    </tr>\n",
       "    <tr>\n",
       "      <th></th>\n",
       "      <th>Year</th>\n",
       "      <th>GDP</th>\n",
       "      <th>Per Capita</th>\n",
       "      <th>Growth</th>\n",
       "    </tr>\n",
       "  </thead>\n",
       "  <tbody>\n",
       "    <tr>\n",
       "      <th>0</th>\n",
       "      <td>2021</td>\n",
       "      <td>$34.33B</td>\n",
       "      <td>$752</td>\n",
       "      <td>-1.87%</td>\n",
       "    </tr>\n",
       "    <tr>\n",
       "      <th>1</th>\n",
       "      <td>2020</td>\n",
       "      <td>$27.03B</td>\n",
       "      <td>$608</td>\n",
       "      <td>-3.63%</td>\n",
       "    </tr>\n",
       "    <tr>\n",
       "      <th>2</th>\n",
       "      <td>2019</td>\n",
       "      <td>$32.34B</td>\n",
       "      <td>$748</td>\n",
       "      <td>-2.18%</td>\n",
       "    </tr>\n",
       "    <tr>\n",
       "      <th>3</th>\n",
       "      <td>2018</td>\n",
       "      <td>$32.33B</td>\n",
       "      <td>$770</td>\n",
       "      <td>-2.68%</td>\n",
       "    </tr>\n",
       "    <tr>\n",
       "      <th>4</th>\n",
       "      <td>2017</td>\n",
       "      <td>$129.72B</td>\n",
       "      <td>$3,189</td>\n",
       "      <td>0.71%</td>\n",
       "    </tr>\n",
       "    <tr>\n",
       "      <th>...</th>\n",
       "      <td>...</td>\n",
       "      <td>...</td>\n",
       "      <td>...</td>\n",
       "      <td>...</td>\n",
       "    </tr>\n",
       "    <tr>\n",
       "      <th>57</th>\n",
       "      <td>1964</td>\n",
       "      <td>$1.61B</td>\n",
       "      <td>$129</td>\n",
       "      <td>-1.12%</td>\n",
       "    </tr>\n",
       "    <tr>\n",
       "      <th>58</th>\n",
       "      <td>1963</td>\n",
       "      <td>$1.57B</td>\n",
       "      <td>$129</td>\n",
       "      <td>-2.85%</td>\n",
       "    </tr>\n",
       "    <tr>\n",
       "      <th>59</th>\n",
       "      <td>1962</td>\n",
       "      <td>$1.54B</td>\n",
       "      <td>$130</td>\n",
       "      <td>6.92%</td>\n",
       "    </tr>\n",
       "    <tr>\n",
       "      <th>60</th>\n",
       "      <td>1961</td>\n",
       "      <td>$1.42B</td>\n",
       "      <td>$123</td>\n",
       "      <td>0.02%</td>\n",
       "    </tr>\n",
       "    <tr>\n",
       "      <th>61</th>\n",
       "      <td>1960</td>\n",
       "      <td>$1.31B</td>\n",
       "      <td>$116</td>\n",
       "      <td>%</td>\n",
       "    </tr>\n",
       "  </tbody>\n",
       "</table>\n",
       "<p>62 rows × 4 columns</p>\n",
       "</div>"
      ],
      "text/plain": [
       "   Sudan GDP - Historical Data                             \n",
       "                          Year       GDP Per Capita  Growth\n",
       "0                         2021   $34.33B       $752  -1.87%\n",
       "1                         2020   $27.03B       $608  -3.63%\n",
       "2                         2019   $32.34B       $748  -2.18%\n",
       "3                         2018   $32.33B       $770  -2.68%\n",
       "4                         2017  $129.72B     $3,189   0.71%\n",
       "..                         ...       ...        ...     ...\n",
       "57                        1964    $1.61B       $129  -1.12%\n",
       "58                        1963    $1.57B       $129  -2.85%\n",
       "59                        1962    $1.54B       $130   6.92%\n",
       "60                        1961    $1.42B       $123   0.02%\n",
       "61                        1960    $1.31B       $116       %\n",
       "\n",
       "[62 rows x 4 columns]"
      ]
     },
     "execution_count": 4,
     "metadata": {},
     "output_type": "execute_result"
    }
   ],
   "source": [
    "tables[1]"
   ]
  },
  {
   "cell_type": "markdown",
   "id": "fc3cc1fd",
   "metadata": {},
   "source": [
    "### Exploratory Analytics & Data wrangling"
   ]
  },
  {
   "cell_type": "code",
   "execution_count": 5,
   "id": "6e18f24a",
   "metadata": {},
   "outputs": [],
   "source": [
    "sudan_table = tables[1]"
   ]
  },
  {
   "cell_type": "code",
   "execution_count": 6,
   "id": "bf069fdb",
   "metadata": {},
   "outputs": [],
   "source": [
    "df = sudan_table['Sudan GDP - Historical Data']"
   ]
  },
  {
   "cell_type": "code",
   "execution_count": 7,
   "id": "0be91914",
   "metadata": {},
   "outputs": [],
   "source": [
    "df.drop(['GDP', 'Growth'], axis=1, inplace=True)"
   ]
  },
  {
   "cell_type": "markdown",
   "id": "24d7e68b",
   "metadata": {},
   "source": [
    "### Transforming Categorical Features"
   ]
  },
  {
   "cell_type": "code",
   "execution_count": 8,
   "id": "18d5584b",
   "metadata": {},
   "outputs": [],
   "source": [
    "df['Per Capita'] = df['Per Capita'].str.replace('$','')"
   ]
  },
  {
   "cell_type": "code",
   "execution_count": 9,
   "id": "3a31b670",
   "metadata": {},
   "outputs": [
    {
     "data": {
      "text/html": [
       "<div>\n",
       "<style scoped>\n",
       "    .dataframe tbody tr th:only-of-type {\n",
       "        vertical-align: middle;\n",
       "    }\n",
       "\n",
       "    .dataframe tbody tr th {\n",
       "        vertical-align: top;\n",
       "    }\n",
       "\n",
       "    .dataframe thead th {\n",
       "        text-align: right;\n",
       "    }\n",
       "</style>\n",
       "<table border=\"1\" class=\"dataframe\">\n",
       "  <thead>\n",
       "    <tr style=\"text-align: right;\">\n",
       "      <th></th>\n",
       "      <th>Year</th>\n",
       "      <th>Per Capita</th>\n",
       "    </tr>\n",
       "  </thead>\n",
       "  <tbody>\n",
       "    <tr>\n",
       "      <th>0</th>\n",
       "      <td>2021</td>\n",
       "      <td>752</td>\n",
       "    </tr>\n",
       "    <tr>\n",
       "      <th>1</th>\n",
       "      <td>2020</td>\n",
       "      <td>608</td>\n",
       "    </tr>\n",
       "    <tr>\n",
       "      <th>2</th>\n",
       "      <td>2019</td>\n",
       "      <td>748</td>\n",
       "    </tr>\n",
       "    <tr>\n",
       "      <th>3</th>\n",
       "      <td>2018</td>\n",
       "      <td>770</td>\n",
       "    </tr>\n",
       "    <tr>\n",
       "      <th>4</th>\n",
       "      <td>2017</td>\n",
       "      <td>3,189</td>\n",
       "    </tr>\n",
       "    <tr>\n",
       "      <th>...</th>\n",
       "      <td>...</td>\n",
       "      <td>...</td>\n",
       "    </tr>\n",
       "    <tr>\n",
       "      <th>57</th>\n",
       "      <td>1964</td>\n",
       "      <td>129</td>\n",
       "    </tr>\n",
       "    <tr>\n",
       "      <th>58</th>\n",
       "      <td>1963</td>\n",
       "      <td>129</td>\n",
       "    </tr>\n",
       "    <tr>\n",
       "      <th>59</th>\n",
       "      <td>1962</td>\n",
       "      <td>130</td>\n",
       "    </tr>\n",
       "    <tr>\n",
       "      <th>60</th>\n",
       "      <td>1961</td>\n",
       "      <td>123</td>\n",
       "    </tr>\n",
       "    <tr>\n",
       "      <th>61</th>\n",
       "      <td>1960</td>\n",
       "      <td>116</td>\n",
       "    </tr>\n",
       "  </tbody>\n",
       "</table>\n",
       "<p>62 rows × 2 columns</p>\n",
       "</div>"
      ],
      "text/plain": [
       "    Year Per Capita\n",
       "0   2021        752\n",
       "1   2020        608\n",
       "2   2019        748\n",
       "3   2018        770\n",
       "4   2017      3,189\n",
       "..   ...        ...\n",
       "57  1964        129\n",
       "58  1963        129\n",
       "59  1962        130\n",
       "60  1961        123\n",
       "61  1960        116\n",
       "\n",
       "[62 rows x 2 columns]"
      ]
     },
     "execution_count": 9,
     "metadata": {},
     "output_type": "execute_result"
    }
   ],
   "source": [
    "df"
   ]
  },
  {
   "cell_type": "code",
   "execution_count": 10,
   "id": "5b69fcaa",
   "metadata": {},
   "outputs": [
    {
     "data": {
      "text/plain": [
       "Year           int64\n",
       "Per Capita    object\n",
       "dtype: object"
      ]
     },
     "execution_count": 10,
     "metadata": {},
     "output_type": "execute_result"
    }
   ],
   "source": [
    "df.dtypes"
   ]
  },
  {
   "cell_type": "code",
   "execution_count": 11,
   "id": "88fcd6b0",
   "metadata": {},
   "outputs": [],
   "source": [
    "df['Per Capita'] = df['Per Capita'].str.replace(',','')"
   ]
  },
  {
   "cell_type": "code",
   "execution_count": 12,
   "id": "4d97eda1",
   "metadata": {},
   "outputs": [
    {
     "data": {
      "text/html": [
       "<div>\n",
       "<style scoped>\n",
       "    .dataframe tbody tr th:only-of-type {\n",
       "        vertical-align: middle;\n",
       "    }\n",
       "\n",
       "    .dataframe tbody tr th {\n",
       "        vertical-align: top;\n",
       "    }\n",
       "\n",
       "    .dataframe thead th {\n",
       "        text-align: right;\n",
       "    }\n",
       "</style>\n",
       "<table border=\"1\" class=\"dataframe\">\n",
       "  <thead>\n",
       "    <tr style=\"text-align: right;\">\n",
       "      <th></th>\n",
       "      <th>Year</th>\n",
       "      <th>Per Capita</th>\n",
       "    </tr>\n",
       "  </thead>\n",
       "  <tbody>\n",
       "    <tr>\n",
       "      <th>0</th>\n",
       "      <td>2021</td>\n",
       "      <td>752</td>\n",
       "    </tr>\n",
       "    <tr>\n",
       "      <th>1</th>\n",
       "      <td>2020</td>\n",
       "      <td>608</td>\n",
       "    </tr>\n",
       "    <tr>\n",
       "      <th>2</th>\n",
       "      <td>2019</td>\n",
       "      <td>748</td>\n",
       "    </tr>\n",
       "    <tr>\n",
       "      <th>3</th>\n",
       "      <td>2018</td>\n",
       "      <td>770</td>\n",
       "    </tr>\n",
       "    <tr>\n",
       "      <th>4</th>\n",
       "      <td>2017</td>\n",
       "      <td>3189</td>\n",
       "    </tr>\n",
       "    <tr>\n",
       "      <th>...</th>\n",
       "      <td>...</td>\n",
       "      <td>...</td>\n",
       "    </tr>\n",
       "    <tr>\n",
       "      <th>57</th>\n",
       "      <td>1964</td>\n",
       "      <td>129</td>\n",
       "    </tr>\n",
       "    <tr>\n",
       "      <th>58</th>\n",
       "      <td>1963</td>\n",
       "      <td>129</td>\n",
       "    </tr>\n",
       "    <tr>\n",
       "      <th>59</th>\n",
       "      <td>1962</td>\n",
       "      <td>130</td>\n",
       "    </tr>\n",
       "    <tr>\n",
       "      <th>60</th>\n",
       "      <td>1961</td>\n",
       "      <td>123</td>\n",
       "    </tr>\n",
       "    <tr>\n",
       "      <th>61</th>\n",
       "      <td>1960</td>\n",
       "      <td>116</td>\n",
       "    </tr>\n",
       "  </tbody>\n",
       "</table>\n",
       "<p>62 rows × 2 columns</p>\n",
       "</div>"
      ],
      "text/plain": [
       "    Year Per Capita\n",
       "0   2021        752\n",
       "1   2020        608\n",
       "2   2019        748\n",
       "3   2018        770\n",
       "4   2017       3189\n",
       "..   ...        ...\n",
       "57  1964        129\n",
       "58  1963        129\n",
       "59  1962        130\n",
       "60  1961        123\n",
       "61  1960        116\n",
       "\n",
       "[62 rows x 2 columns]"
      ]
     },
     "execution_count": 12,
     "metadata": {},
     "output_type": "execute_result"
    }
   ],
   "source": [
    "df"
   ]
  },
  {
   "cell_type": "code",
   "execution_count": 13,
   "id": "52904ca4",
   "metadata": {},
   "outputs": [],
   "source": [
    "df = df.astype('int64')"
   ]
  },
  {
   "cell_type": "code",
   "execution_count": 14,
   "id": "86214a04",
   "metadata": {},
   "outputs": [
    {
     "data": {
      "text/plain": [
       "Year          int64\n",
       "Per Capita    int64\n",
       "dtype: object"
      ]
     },
     "execution_count": 14,
     "metadata": {},
     "output_type": "execute_result"
    }
   ],
   "source": [
    "df.dtypes"
   ]
  },
  {
   "cell_type": "code",
   "execution_count": 15,
   "id": "1277724f",
   "metadata": {},
   "outputs": [
    {
     "data": {
      "image/png": "[encoded data removed]",
      "text/plain": [
       "<Figure size 640x480 with 2 Axes>"
      ]
     },
     "metadata": {},
     "output_type": "display_data"
    }
   ],
   "source": [
    "# Correlation Plots\n",
    "sns.heatmap(df.corr(), cmap='coolwarm', annot=True)\n",
    "plt.title('Correlation Plots')\n",
    "plt.show()"
   ]
  },
  {
   "cell_type": "markdown",
   "id": "dd2d7b50",
   "metadata": {},
   "source": [
    "### Checking For Outliers"
   ]
  },
  {
   "cell_type": "code",
   "execution_count": 16,
   "id": "3de085ef",
   "metadata": {},
   "outputs": [
    {
     "data": {
      "text/plain": [
       "<AxesSubplot:xlabel='Year'>"
      ]
     },
     "execution_count": 16,
     "metadata": {},
     "output_type": "execute_result"
    },
    {
     "data": {
      "image/png": "[encoded data removed]",
      "text/plain": [
       "<Figure size 640x480 with 1 Axes>"
      ]
     },
     "metadata": {},
     "output_type": "display_data"
    }
   ],
   "source": [
    "# Boxplot for Year columns \n",
    "sns.boxplot(df['Year'])"
   ]
  },
  {
   "cell_type": "code",
   "execution_count": 17,
   "id": "25d11413",
   "metadata": {},
   "outputs": [
    {
     "data": {
      "image/png": "[encoded data removed]",
      "text/plain": [
       "<Figure size 1500x500 with 2 Axes>"
      ]
     },
     "metadata": {},
     "output_type": "display_data"
    }
   ],
   "source": [
    "# Boxplot for Per Capita columns \n",
    "fig = plt.figure(figsize=(15,5))\n",
    "grid = fig.add_gridspec(1,2)\n",
    "\n",
    "ax0 = fig.add_subplot(grid[0,0])\n",
    "sns.boxplot(df['Per Capita'])\n",
    "\n",
    "\n",
    "ax1 = fig.add_subplot(grid[0,1])\n",
    "sns.distplot(df['Per Capita'])\n",
    "plt.tight_layout()"
   ]
  },
  {
   "cell_type": "markdown",
   "id": "d48866e6",
   "metadata": {},
   "source": [
    "### Z-Secore Method"
   ]
  },
  {
   "cell_type": "code",
   "execution_count": 18,
   "id": "ebdf7c01",
   "metadata": {},
   "outputs": [
    {
     "name": "stdout",
     "output_type": "stream",
     "text": [
      "Upper limit :  1344.7509585995845\n",
      "Lower limit :  93.6683962391254\n"
     ]
    }
   ],
   "source": [
    "# find the limit\n",
    "upper_limit = df['Per Capita'].mean() + 0.9*df['Per Capita'].std()\n",
    "lower_limit = df['Per Capita'].mean() - 0.9*df['Per Capita'].std()\n",
    "print('Upper limit : ', upper_limit)\n",
    "print('Lower limit : ', lower_limit)"
   ]
  },
  {
   "cell_type": "code",
   "execution_count": 19,
   "id": "0be4648f",
   "metadata": {},
   "outputs": [
    {
     "data": {
      "text/html": [
       "<div>\n",
       "<style scoped>\n",
       "    .dataframe tbody tr th:only-of-type {\n",
       "        vertical-align: middle;\n",
       "    }\n",
       "\n",
       "    .dataframe tbody tr th {\n",
       "        vertical-align: top;\n",
       "    }\n",
       "\n",
       "    .dataframe thead th {\n",
       "        text-align: right;\n",
       "    }\n",
       "</style>\n",
       "<table border=\"1\" class=\"dataframe\">\n",
       "  <thead>\n",
       "    <tr style=\"text-align: right;\">\n",
       "      <th></th>\n",
       "      <th>Year</th>\n",
       "      <th>Per Capita</th>\n",
       "    </tr>\n",
       "  </thead>\n",
       "  <tbody>\n",
       "    <tr>\n",
       "      <th>4</th>\n",
       "      <td>2017</td>\n",
       "      <td>3189</td>\n",
       "    </tr>\n",
       "    <tr>\n",
       "      <th>5</th>\n",
       "      <td>2016</td>\n",
       "      <td>2614</td>\n",
       "    </tr>\n",
       "    <tr>\n",
       "      <th>6</th>\n",
       "      <td>2015</td>\n",
       "      <td>2226</td>\n",
       "    </tr>\n",
       "    <tr>\n",
       "      <th>7</th>\n",
       "      <td>2014</td>\n",
       "      <td>2076</td>\n",
       "    </tr>\n",
       "    <tr>\n",
       "      <th>8</th>\n",
       "      <td>2013</td>\n",
       "      <td>1835</td>\n",
       "    </tr>\n",
       "    <tr>\n",
       "      <th>9</th>\n",
       "      <td>2012</td>\n",
       "      <td>1797</td>\n",
       "    </tr>\n",
       "    <tr>\n",
       "      <th>10</th>\n",
       "      <td>2011</td>\n",
       "      <td>1983</td>\n",
       "    </tr>\n",
       "    <tr>\n",
       "      <th>11</th>\n",
       "      <td>2010</td>\n",
       "      <td>1706</td>\n",
       "    </tr>\n",
       "    <tr>\n",
       "      <th>12</th>\n",
       "      <td>2009</td>\n",
       "      <td>1383</td>\n",
       "    </tr>\n",
       "    <tr>\n",
       "      <th>13</th>\n",
       "      <td>2008</td>\n",
       "      <td>1586</td>\n",
       "    </tr>\n",
       "    <tr>\n",
       "      <th>14</th>\n",
       "      <td>2007</td>\n",
       "      <td>1501</td>\n",
       "    </tr>\n",
       "    <tr>\n",
       "      <th>30</th>\n",
       "      <td>1991</td>\n",
       "      <td>1668</td>\n",
       "    </tr>\n",
       "  </tbody>\n",
       "</table>\n",
       "</div>"
      ],
      "text/plain": [
       "    Year  Per Capita\n",
       "4   2017        3189\n",
       "5   2016        2614\n",
       "6   2015        2226\n",
       "7   2014        2076\n",
       "8   2013        1835\n",
       "9   2012        1797\n",
       "10  2011        1983\n",
       "11  2010        1706\n",
       "12  2009        1383\n",
       "13  2008        1586\n",
       "14  2007        1501\n",
       "30  1991        1668"
      ]
     },
     "execution_count": 19,
     "metadata": {},
     "output_type": "execute_result"
    }
   ],
   "source": [
    "# find the outlier\n",
    "df[(df['Per Capita'] > upper_limit) | (df['Per Capita'] < lower_limit)]"
   ]
  },
  {
   "cell_type": "code",
   "execution_count": 20,
   "id": "6e3c0082",
   "metadata": {},
   "outputs": [
    {
     "name": "stdout",
     "output_type": "stream",
     "text": [
      "Dataset before removeing outlier :  62\n",
      "New Dataset after remoeving outlier :  50\n",
      "Outlier 12\n"
     ]
    }
   ],
   "source": [
    "# termming - delet the outlier from dataset\n",
    "new_df = df[(df['Per Capita'] < upper_limit) & (df['Per Capita'] > lower_limit)]\n",
    "print('Dataset before removeing outlier : ', len(df))\n",
    "print('New Dataset after remoeving outlier : ',len(new_df))\n",
    "print('Outlier',len(df) - len(new_df))"
   ]
  },
  {
   "cell_type": "code",
   "execution_count": 21,
   "id": "f2b9f7a4",
   "metadata": {},
   "outputs": [
    {
     "data": {
      "text/plain": [
       "<AxesSubplot:xlabel='Per Capita'>"
      ]
     },
     "execution_count": 21,
     "metadata": {},
     "output_type": "execute_result"
    },
    {
     "data": {
      "image/png": "[encoded data removed]",
      "text/plain": [
       "<Figure size 640x480 with 1 Axes>"
      ]
     },
     "metadata": {},
     "output_type": "display_data"
    }
   ],
   "source": [
    "sns.boxplot(new_df['Per Capita'])"
   ]
  },
  {
   "cell_type": "code",
   "execution_count": 22,
   "id": "7516cecb",
   "metadata": {},
   "outputs": [
    {
     "data": {
      "text/plain": [
       "<AxesSubplot:xlabel='Year', ylabel='Per Capita'>"
      ]
     },
     "execution_count": 22,
     "metadata": {},
     "output_type": "execute_result"
    },
    {
     "data": {
      "image/png": "[encoded data removed]",
      "text/plain": [
       "<Figure size 640x480 with 1 Axes>"
      ]
     },
     "metadata": {},
     "output_type": "display_data"
    }
   ],
   "source": [
    "sns.scatterplot(data=new_df, x=new_df['Year'], y=new_df['Per Capita'])"
   ]
  },
  {
   "cell_type": "markdown",
   "id": "9b8965df",
   "metadata": {},
   "source": [
    "### Model Selection - Linear Regresstion"
   ]
  },
  {
   "cell_type": "markdown",
   "id": "b6ae38d1",
   "metadata": {},
   "source": [
    "#### Split and Scale\n",
    "This split will be used to predict quality"
   ]
  },
  {
   "cell_type": "code",
   "execution_count": 23,
   "id": "44d26bdc",
   "metadata": {},
   "outputs": [],
   "source": [
    "# Selecting Dependent and Independent variables \n",
    "X = new_df['Year']\n",
    "y = new_df['Per Capita']"
   ]
  },
  {
   "cell_type": "markdown",
   "id": "17b4d381",
   "metadata": {},
   "source": [
    "Now we will split the independent and dependent variables into training and test sets for our\n",
    "models. 80% of our data will be used to train our models and the remaining 30% will be used for testing."
   ]
  },
  {
   "cell_type": "code",
   "execution_count": 24,
   "id": "93af61c6",
   "metadata": {},
   "outputs": [],
   "source": [
    "# Import machine learing libraries\n",
    "# Train and Test split for supervised training  \n",
    "from sklearn.model_selection import train_test_split\n",
    "X_train, X_test, y_train, y_test = train_test_split(X, y, test_size=0.3, random_state=42)"
   ]
  },
  {
   "cell_type": "code",
   "execution_count": 25,
   "id": "1756900f",
   "metadata": {},
   "outputs": [
    {
     "name": "stdout",
     "output_type": "stream",
     "text": [
      "The shape of X_train is: (35,)\n",
      "The shape of X_test is: (15,)\n",
      "The shape of y_train is: (35,)\n",
      "The shape of y_test is: (15,)\n"
     ]
    }
   ],
   "source": [
    "print(\"The shape of X_train is:\", X_train.shape)\n",
    "print(\"The shape of X_test is:\", X_test.shape)\n",
    "print(\"The shape of y_train is:\", y_train.shape)\n",
    "print(\"The shape of y_test is:\", y_test.shape)"
   ]
  },
  {
   "cell_type": "code",
   "execution_count": 26,
   "id": "8a8a259d",
   "metadata": {},
   "outputs": [
    {
     "data": {
      "image/png": "[encoded data removed]",
      "text/plain": [
       "<Figure size 640x480 with 1 Axes>"
      ]
     },
     "metadata": {},
     "output_type": "display_data"
    }
   ],
   "source": [
    "# # Train and Test split visualization \n",
    "sns.scatterplot(X_train, y_train, label='Training Data', color='r' )\n",
    "sns.scatterplot(X_test, y_test, label='Testing Data', color='g' )\n",
    "plt.title('Train and Test split ')\n",
    "plt.show()"
   ]
  },
  {
   "cell_type": "code",
   "execution_count": 27,
   "id": "eae14296",
   "metadata": {},
   "outputs": [],
   "source": [
    "# Createing liner model and train it \n",
    "from sklearn.linear_model import LinearRegression\n",
    "model = LinearRegression()"
   ]
  },
  {
   "cell_type": "code",
   "execution_count": 28,
   "id": "72272b04",
   "metadata": {},
   "outputs": [
    {
     "name": "stdout",
     "output_type": "stream",
     "text": [
      "Wall time: 0 ns\n"
     ]
    },
    {
     "data": {
      "text/plain": [
       "LinearRegression()"
      ]
     },
     "execution_count": 28,
     "metadata": {},
     "output_type": "execute_result"
    }
   ],
   "source": [
    "%%time\n",
    "model.fit(X_train.values.reshape(-1,1), y_train.values)"
   ]
  },
  {
   "cell_type": "code",
   "execution_count": 29,
   "id": "8164b1f6",
   "metadata": {},
   "outputs": [
    {
     "data": {
      "text/plain": [
       "array([517.90041728, 229.75354863, 325.80250484, 165.72091115,\n",
       "       475.21199229, 133.70459241, 368.49092983, 379.16303608,\n",
       "       304.45829235, 443.19567356, 528.57252353, 613.9493735 ,\n",
       "       251.09776112, 571.26094851, 742.01464845])"
      ]
     },
     "execution_count": 29,
     "metadata": {},
     "output_type": "execute_result"
    }
   ],
   "source": [
    "# Use model to predict on TEST data\n",
    "prediction = model.predict(X_test.values.reshape(-1,1))\n",
    "prediction"
   ]
  },
  {
   "cell_type": "code",
   "execution_count": 30,
   "id": "3f3e6761",
   "metadata": {},
   "outputs": [
    {
     "data": {
      "image/png": "[encoded data removed]",
      "text/plain": [
       "<Figure size 640x480 with 1 Axes>"
      ]
     },
     "metadata": {},
     "output_type": "display_data"
    }
   ],
   "source": [
    "# Plot prediction line against actual test data\n",
    "sns.lineplot(X_test, prediction, label='Linear Regresstion', color='b' )\n",
    "sns.scatterplot(X_test, y_test, label='Acutal Test Data', color='g' )\n",
    "plt.legend()\n",
    "plt.show()"
   ]
  },
  {
   "cell_type": "code",
   "execution_count": 31,
   "id": "826aa9c5",
   "metadata": {},
   "outputs": [
    {
     "name": "stdout",
     "output_type": "stream",
     "text": [
      "Predict Per Capita for Sudan on year 2022 is :  784.7\n"
     ]
    }
   ],
   "source": [
    "# Predict Per Capita for Sudan on year 2022\n",
    "print('Predict Per Capita for Sudan on year 2022 is : ',model.predict(np.array([[2022]]))[0].round(2))"
   ]
  },
  {
   "cell_type": "code",
   "execution_count": 32,
   "id": "2004fddf",
   "metadata": {},
   "outputs": [
    {
     "name": "stdout",
     "output_type": "stream",
     "text": [
      "Log Regression Accuracy: 32.51 %\n"
     ]
    }
   ],
   "source": [
    "#score this model \n",
    "accuracy = model.score(X_test.values.reshape(-1,1), y_test)\n",
    "print('Log Regression Accuracy:',(accuracy*100).round(2),'%')"
   ]
  },
  {
   "cell_type": "markdown",
   "id": "c1fa7139",
   "metadata": {},
   "source": [
    "Our Logisitic Regression model gave us a preliminary accuracy score of 32.51%, which is quite low. To tune our model to see if we can improve on that number. we need more bigger dataset and added features to train model for butter tuning."
   ]
  },
  {
   "cell_type": "code",
   "execution_count": 33,
   "id": "48b69e2a",
   "metadata": {},
   "outputs": [
    {
     "name": "stdout",
     "output_type": "stream",
     "text": [
      "Predict Per Capita for Sudan on year 2023 is :  795.38\n"
     ]
    }
   ],
   "source": [
    "# Predict Per Capita for Sudan on year 2023\n",
    "print('Predict Per Capita for Sudan on year 2023 is : ',model.predict(np.array([[2023]]))[0].round(2))"
   ]
  },
  {
   "cell_type": "markdown",
   "id": "85c34bdd",
   "metadata": {},
   "source": [
    "Prediction can be consider is quite true if we consider Sudan has been facing political and economic challenges for many years. since 2019 and The COVID-19 pandemic has also had a significant impact on Sudan's economy"
   ]
  },
  {
   "cell_type": "code",
   "execution_count": null,
   "id": "3414ac39",
   "metadata": {},
   "outputs": [],
   "source": []
  }
 ],
 "metadata": {
  "kernelspec": {
   "display_name": "Python 3 (ipykernel)",
   "language": "python",
   "name": "python3"
  },
  "language_info": {
   "codemirror_mode": {
    "name": "ipython",
    "version": 3
   },
   "file_extension": ".py",
   "mimetype": "text/x-python",
   "name": "python",
   "nbconvert_exporter": "python",
   "pygments_lexer": "ipython3",
   "version": "3.9.13"
  }
 },
 "nbformat": 4,
 "nbformat_minor": 5
}
